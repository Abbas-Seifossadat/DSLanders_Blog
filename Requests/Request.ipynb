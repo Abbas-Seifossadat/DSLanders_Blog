{
 "cells": [
  {
   "cell_type": "markdown",
   "metadata": {
    "id": "FaiHzMpMM1EG"
   },
   "source": [
    "# **Using the Requests Package**"
   ]
  },
  {
   "cell_type": "markdown",
   "metadata": {
    "id": "aHHxOgg3M6sQ"
   },
   "source": [
    "## Installing and Importing the Requests Package"
   ]
  },
  {
   "cell_type": "code",
   "execution_count": 1,
   "metadata": {
    "colab": {
     "base_uri": "https://localhost:8080/"
    },
    "id": "F2Wt90gBMtrQ",
    "outputId": "dad92a5f-65f4-430c-bc98-84bc987b4cda"
   },
   "outputs": [
    {
     "name": "stdout",
     "output_type": "stream",
     "text": [
      "Requirement already satisfied: requests in /usr/local/lib/python3.10/dist-packages (2.31.0)\n",
      "Requirement already satisfied: charset-normalizer<4,>=2 in /usr/local/lib/python3.10/dist-packages (from requests) (3.3.2)\n",
      "Requirement already satisfied: idna<4,>=2.5 in /usr/local/lib/python3.10/dist-packages (from requests) (3.7)\n",
      "Requirement already satisfied: urllib3<3,>=1.21.1 in /usr/local/lib/python3.10/dist-packages (from requests) (2.0.7)\n",
      "Requirement already satisfied: certifi>=2017.4.17 in /usr/local/lib/python3.10/dist-packages (from requests) (2024.7.4)\n"
     ]
    }
   ],
   "source": [
    "!pip install requests"
   ]
  },
  {
   "cell_type": "code",
   "execution_count": 2,
   "metadata": {
    "id": "5_oZniwTM_PV"
   },
   "outputs": [],
   "source": [
    "import requests"
   ]
  },
  {
   "cell_type": "markdown",
   "metadata": {
    "id": "vJWe2DSNNBxq"
   },
   "source": [
    "# Making Basic HTTP Requests"
   ]
  },
  {
   "cell_type": "markdown",
   "metadata": {
    "id": "ARw7jrgQNVkY"
   },
   "source": [
    "## GET Requests"
   ]
  },
  {
   "cell_type": "code",
   "execution_count": null,
   "metadata": {
    "id": "-lgXzqzrTOvp"
   },
   "outputs": [],
   "source": [
    "response = requests.get('https://api.example.com/data')\n",
    "print(response.status_code)\n",
    "print(response.json())"
   ]
  },
  {
   "cell_type": "markdown",
   "metadata": {
    "id": "NuTFwXapNZLb"
   },
   "source": [
    "## POST Requests"
   ]
  },
  {
   "cell_type": "code",
   "execution_count": 8,
   "metadata": {
    "colab": {
     "base_uri": "https://localhost:8080/"
    },
    "id": "oUUHVwMcNaYb",
    "outputId": "fccfa7e9-bc22-4fbd-e3df-6de461d3ea69"
   },
   "outputs": [
    {
     "name": "stdout",
     "output_type": "stream",
     "text": [
      "201\n",
      "{'key': 'value', 'id': 101}\n"
     ]
    }
   ],
   "source": [
    "data = {'key': 'value'}\n",
    "response = requests.post('https://api.example.com/data', json=data)\n",
    "print(response.status_code)\n",
    "print(response.json())"
   ]
  },
  {
   "cell_type": "markdown",
   "metadata": {
    "id": "ZDROGO2KNh2G"
   },
   "source": [
    "## PUT Requests"
   ]
  },
  {
   "cell_type": "code",
   "execution_count": 9,
   "metadata": {
    "colab": {
     "base_uri": "https://localhost:8080/"
    },
    "id": "yEtXi1d1NiwD",
    "outputId": "4bb3bc86-ab5c-4209-fc1e-a8cffe444aa1"
   },
   "outputs": [
    {
     "name": "stdout",
     "output_type": "stream",
     "text": [
      "404\n",
      "{}\n"
     ]
    }
   ],
   "source": [
    "data = {'key': 'new_value'}\n",
    "response = requests.put('https://api.example.com/data/1', json=data)\n",
    "print(response.status_code)\n",
    "print(response.json())"
   ]
  },
  {
   "cell_type": "markdown",
   "metadata": {
    "id": "8tI7oQbMNoN-"
   },
   "source": [
    "## DELETE Requests"
   ]
  },
  {
   "cell_type": "code",
   "execution_count": null,
   "metadata": {
    "id": "SJW-V1wwNq8l"
   },
   "outputs": [],
   "source": [
    "response = requests.delete('https://api.example.com/data/1')\n",
    "print(response.status_code)"
   ]
  },
  {
   "cell_type": "markdown",
   "metadata": {
    "id": "LmP6oU_RNuhh"
   },
   "source": [
    "# Handling Responses"
   ]
  },
  {
   "cell_type": "markdown",
   "metadata": {
    "id": "fmI3eDO7N2tn"
   },
   "source": [
    "## Parsing JSON Data"
   ]
  },
  {
   "cell_type": "code",
   "execution_count": null,
   "metadata": {
    "id": "PTVl_xlqNvZ7"
   },
   "outputs": [],
   "source": [
    "response = requests.get('https://api.example.com/data')\n",
    "data = response.json()\n",
    "print(data)"
   ]
  },
  {
   "cell_type": "markdown",
   "metadata": {
    "id": "9ZoP_C2kN63s"
   },
   "source": [
    "## Accessing Headers"
   ]
  },
  {
   "cell_type": "code",
   "execution_count": null,
   "metadata": {
    "id": "d7ZpNmXvN8uf"
   },
   "outputs": [],
   "source": [
    "response = requests.get('https://api.example.com/data')\n",
    "print(response.headers)"
   ]
  },
  {
   "cell_type": "markdown",
   "metadata": {
    "id": "B9tPBFJBOTCx"
   },
   "source": [
    "# Error Management\n",
    "The Requests package can raise exceptions for various errors. Some common exceptions include:\n",
    "\n",
    "- `requests.exceptions.RequestException`: A base class for all exceptions.\n",
    "- `requests.exceptions.HTTPError`: Raised for HTTP-related errors.\n",
    "- `requests.exceptions.ConnectionError`: Raised for connection-related errors.\n",
    "- `requests.exceptions.Timeout`: Raised when a request times out."
   ]
  },
  {
   "cell_type": "markdown",
   "metadata": {
    "id": "TUopl1_ZOHR1"
   },
   "source": [
    "## Retrying Requests"
   ]
  },
  {
   "cell_type": "code",
   "execution_count": 14,
   "metadata": {
    "colab": {
     "base_uri": "https://localhost:8080/"
    },
    "id": "xYf5gyutOh00",
    "outputId": "66d823d9-8bac-4685-ff65-e5d4aadf84be"
   },
   "outputs": [
    {
     "name": "stdout",
     "output_type": "stream",
     "text": [
      "200\n"
     ]
    }
   ],
   "source": [
    "from requests.adapters import HTTPAdapter\n",
    "from urllib3.util.retry import Retry\n",
    "\n",
    "session = requests.Session()\n",
    "retry = Retry(connect=3, backoff_factor=0.5)\n",
    "adapter = HTTPAdapter(max_retries=retry)\n",
    "session.mount('http://', adapter)\n",
    "session.mount('https://', adapter)\n",
    "\n",
    "response = session.get('https://api.example.com/data')\n",
    "print(response.status_code)"
   ]
  },
  {
   "cell_type": "markdown",
   "metadata": {
    "id": "SfpMfBeIOlN8"
   },
   "source": [
    "# Advanced Features of the Requests Package"
   ]
  },
  {
   "cell_type": "markdown",
   "metadata": {
    "id": "RQV-qf38OoHk"
   },
   "source": [
    "## Sessions and Persistent Connections"
   ]
  },
  {
   "cell_type": "code",
   "execution_count": 15,
   "metadata": {
    "colab": {
     "base_uri": "https://localhost:8080/"
    },
    "id": "ofZJgQPIOmH-",
    "outputId": "3581ed09-a88f-47c7-94fd-a26c98b48b02"
   },
   "outputs": [
    {
     "name": "stdout",
     "output_type": "stream",
     "text": [
      "200\n"
     ]
    }
   ],
   "source": [
    "session = requests.Session()\n",
    "session.headers.update({'Authorization': 'Bearer YOUR_ACCESS_TOKEN'})\n",
    "\n",
    "response = session.get('https://api.example.com/data')\n",
    "print(response.status_code)"
   ]
  },
  {
   "cell_type": "markdown",
   "metadata": {
    "id": "XAPNV125Ouiv"
   },
   "source": [
    "## Handling Cookies"
   ]
  },
  {
   "cell_type": "code",
   "execution_count": null,
   "metadata": {
    "id": "Uh47WWEjOvr6"
   },
   "outputs": [],
   "source": [
    "# Sending cookies\n",
    "cookies = {'session_id': '12345'}\n",
    "response = requests.get('https://api.example.com/data', cookies=cookies)\n",
    "print(response.text)\n",
    "\n",
    "# Receiving cookies\n",
    "response = requests.get('https://api.example.com/data')\n",
    "print(response.cookies['session_id'])"
   ]
  },
  {
   "cell_type": "markdown",
   "metadata": {
    "id": "8qls8CF-OyMc"
   },
   "source": [
    "## Streaming Requests"
   ]
  },
  {
   "cell_type": "code",
   "execution_count": 17,
   "metadata": {
    "id": "GwPYulqhO2XQ"
   },
   "outputs": [],
   "source": [
    "response = requests.get('https://api.example.com/largefile', stream=True)\n",
    "with open('largefile.zip', 'wb') as file:\n",
    "    for chunk in response.iter_content(chunk_size=1024):\n",
    "        if chunk:\n",
    "            file.write(chunk)"
   ]
  },
  {
   "cell_type": "markdown",
   "metadata": {
    "id": "wbIdwXPpO5UT"
   },
   "source": [
    "## Customizing Headers and Parameters"
   ]
  },
  {
   "cell_type": "code",
   "execution_count": null,
   "metadata": {
    "id": "_16ldL8gO9-O"
   },
   "outputs": [],
   "source": [
    "headers = {'User-Agent': 'my-app/0.0.1'}\n",
    "params = {'key1': 'value1', 'key2': 'value2'}\n",
    "response = requests.get('https://api.example.com/data', headers=headers, params=params)\n",
    "print(response.text)"
   ]
  },
  {
   "cell_type": "markdown",
   "metadata": {
    "id": "tMuc1R-aO_YO"
   },
   "source": [
    "## Uploading Files"
   ]
  },
  {
   "cell_type": "code",
   "execution_count": null,
   "metadata": {
    "id": "CilshkwMPC7s"
   },
   "outputs": [],
   "source": [
    "files = {'file': open('report.csv', 'rb')}\n",
    "response = requests.post('https://api.example.com/upload', files=files)\n",
    "print(response.status_code)"
   ]
  },
  {
   "cell_type": "markdown",
   "metadata": {
    "id": "Z6gUiNkZPJoq"
   },
   "source": [
    "# Real-World Applications and Case Studies"
   ]
  },
  {
   "cell_type": "markdown",
   "metadata": {
    "id": "YNBsieg1PMHr"
   },
   "source": [
    "## Automating Web Interactions"
   ]
  },
  {
   "cell_type": "code",
   "execution_count": null,
   "metadata": {
    "id": "KeucMpipPKi5"
   },
   "outputs": [],
   "source": [
    "login_data = {'username': 'myusername', 'password': 'mypassword'}\n",
    "session = requests.Session()\n",
    "session.post('https://example.com/login', data=login_data)\n",
    "\n",
    "response = session.get('https://example.com/profile')\n",
    "print(response.text)"
   ]
  },
  {
   "cell_type": "markdown",
   "metadata": {
    "id": "MRwVjrzDPQPy"
   },
   "source": [
    "## Data Extraction from APIs"
   ]
  },
  {
   "cell_type": "code",
   "execution_count": null,
   "metadata": {
    "id": "5q0GFH3sPSst"
   },
   "outputs": [],
   "source": [
    "response = requests.get('https://api.exchangerate-api.com/v4/latest/USD')\n",
    "data = response.json()\n",
    "print(f\"Exchange rate from USD to EUR: {data['rates']['EUR']}\")"
   ]
  },
  {
   "cell_type": "markdown",
   "metadata": {
    "id": "QxHESSN0PWBl"
   },
   "source": [
    "## Integrating with Third-Party Services"
   ]
  },
  {
   "cell_type": "code",
   "execution_count": null,
   "metadata": {
    "id": "17Xu-6FCPZjl"
   },
   "outputs": [],
   "source": [
    "data = {\n",
    "    'message': 'Hello, world!',\n",
    "    'access_token': 'YOUR_ACCESS_TOKEN'\n",
    "}\n",
    "response = requests.post('https://graph.facebook.com/v11.0/me/feed', data=data)\n",
    "print(response.status_code)"
   ]
  },
  {
   "cell_type": "markdown",
   "metadata": {
    "id": "2XkhEKZwPd_4"
   },
   "source": [
    "## Case Study: Using Requests in a Data Science Project"
   ]
  },
  {
   "cell_type": "code",
   "execution_count": null,
   "metadata": {
    "id": "X7ZkegF6VkCd"
   },
   "outputs": [],
   "source": [
    "import requests\n",
    "\n",
    "# Define the URL and API key\n",
    "# Replace 'YOUR_API_KEY' with your actual API key\n",
    "url = 'https://api.weatherapi.com/v1/current.json'\n",
    "api_key = 'YOUR_API_KEY'\n",
    "query = 'London'\n",
    "\n",
    "# Make the request\n",
    "response = requests.get(url, params={'key': api_key, 'q': query})\n",
    "\n",
    "# Check if the request was successful\n",
    "if response.status_code == 200:\n",
    "    try:\n",
    "        # Attempt to parse the JSON response\n",
    "        weather_data = response.json()\n",
    "        print(f\"Current temperature in {query}: {weather_data['current']['temp_c']}°C\")\n",
    "    except ValueError as e:\n",
    "        print(f\"Error decoding JSON: {e}\")\n",
    "else:\n",
    "    print(f\"Request failed with status code {response.status_code}\")\n"
   ]
  }
 ],
 "metadata": {
  "colab": {
   "provenance": []
  },
  "kernelspec": {
   "display_name": "Python 3",
   "language": "python",
   "name": "python3"
  },
  "language_info": {
   "codemirror_mode": {
    "name": "ipython",
    "version": 3
   },
   "file_extension": ".py",
   "mimetype": "text/x-python",
   "name": "python",
   "nbconvert_exporter": "python",
   "pygments_lexer": "ipython3",
   "version": "3.7.0"
  }
 },
 "nbformat": 4,
 "nbformat_minor": 1
}
