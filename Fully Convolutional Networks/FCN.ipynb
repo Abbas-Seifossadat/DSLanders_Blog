{
 "cells": [
  {
   "cell_type": "code",
   "execution_count": null,
   "metadata": {
    "id": "mp8o6lKRZ37k"
   },
   "outputs": [],
   "source": [
    "!pip install tensorflow tensorflow_datasets matplotlib"
   ]
  },
  {
   "cell_type": "markdown",
   "metadata": {},
   "source": [
    "# Data Preparation"
   ]
  },
  {
   "cell_type": "code",
   "execution_count": null,
   "metadata": {
    "id": "emSllaO2aTNv"
   },
   "outputs": [],
   "source": [
    "import tensorflow as tf\n",
    "import tensorflow_datasets as tfds\n",
    "import matplotlib.pyplot as plt\n",
    "\n",
    "# Load the PASCAL VOC 2012 dataset\n",
    "dataset, info = tfds.load('voc/2012', with_info=True, as_supervised=True)\n",
    "\n",
    "# Define the training and validation splits\n",
    "train_dataset = dataset['train'].map(lambda x, y: (tf.image.resize(x, (224, 224)), tf.image.resize(y['segmentation'], (224, 224))))\n",
    "val_dataset = dataset['validation'].map(lambda x, y: (tf.image.resize(x, (224, 224)), tf.image.resize(y['segmentation'], (224, 224))))\n",
    "\n",
    "# Normalize the images\n",
    "def normalize_image(image, label):\n",
    "    image = tf.cast(image, tf.float32) / 255.0\n",
    "    label = tf.cast(label, tf.int32)\n",
    "    return image, label\n",
    "\n",
    "train_dataset = train_dataset.map(normalize_image).batch(8).prefetch(tf.data.experimental.AUTOTUNE)\n",
    "val_dataset = val_dataset.map(normalize_image).batch(8).prefetch(tf.data.experimental.AUTOTUNE)"
   ]
  },
  {
   "cell_type": "markdown",
   "metadata": {},
   "source": [
    "# Model Architecture"
   ]
  },
  {
   "cell_type": "code",
   "execution_count": null,
   "metadata": {
    "id": "tYigXra1aUDB"
   },
   "outputs": [],
   "source": [
    "from tensorflow.keras.applications import VGG16\n",
    "from tensorflow.keras.layers import Conv2D, Conv2DTranspose, Input, concatenate\n",
    "from tensorflow.keras.models import Model\n",
    "\n",
    "def create_fcn_model(input_shape=(224, 224, 3), num_classes=21):\n",
    "    # Load the VGG16 model pre-trained on ImageNet without the fully connected layers\n",
    "    vgg16 = VGG16(weights='imagenet', include_top=False, input_shape=input_shape)\n",
    "\n",
    "    # Get the output of the last convolutional block\n",
    "    c5 = vgg16.get_layer(\"block5_conv3\").output\n",
    "\n",
    "    # Define the upsampling path\n",
    "    up6 = Conv2DTranspose(512, (3, 3), strides=(2, 2), padding=\"same\")(c5)\n",
    "    up6 = concatenate([up6, vgg16.get_layer(\"block4_conv3\").output], axis=3)\n",
    "\n",
    "    up7 = Conv2DTranspose(256, (3, 3), strides=(2, 2), padding=\"same\")(up6)\n",
    "    up7 = concatenate([up7, vgg16.get_layer(\"block3_conv3\").output], axis=3)\n",
    "\n",
    "    up8 = Conv2DTranspose(128, (3, 3), strides=(2, 2), padding=\"same\")(up7)\n",
    "    up8 = concatenate([up8, vgg16.get_layer(\"block2_conv2\").output], axis=3)\n",
    "\n",
    "    up9 = Conv2DTranspose(64, (3, 3), strides=(2, 2), padding=\"same\")(up8)\n",
    "    up9 = concatenate([up9, vgg16.get_layer(\"block1_conv2\").output], axis=3)\n",
    "\n",
    "    # Final upsampling layer to match the input size\n",
    "    up10 = Conv2DTranspose(num_classes, (3, 3), strides=(2, 2), padding=\"same\")(up9)\n",
    "    outputs = Conv2D(num_classes, (1, 1), activation='softmax')(up10)\n",
    "\n",
    "    # Create the model\n",
    "    model = Model(inputs=vgg16.input, outputs=outputs)\n",
    "\n",
    "    return model\n",
    "\n",
    "# Instantiate the model\n",
    "fcn_model = create_fcn_model()"
   ]
  },
  {
   "cell_type": "code",
   "execution_count": 16,
   "metadata": {
    "colab": {
     "base_uri": "https://localhost:8080/"
    },
    "id": "GxLJxwVbfGrz",
    "outputId": "0a982c5e-afea-4b19-b0cd-66438dcb37fd"
   },
   "outputs": [
    {
     "name": "stdout",
     "output_type": "stream",
     "text": [
      "Model: \"model_1\"\n",
      "__________________________________________________________________________________________________\n",
      " Layer (type)                Output Shape                 Param #   Connected to                  \n",
      "==================================================================================================\n",
      " input_2 (InputLayer)        [(None, 224, 224, 3)]        0         []                            \n",
      "                                                                                                  \n",
      " block1_conv1 (Conv2D)       (None, 224, 224, 64)         1792      ['input_2[0][0]']             \n",
      "                                                                                                  \n",
      " block1_conv2 (Conv2D)       (None, 224, 224, 64)         36928     ['block1_conv1[0][0]']        \n",
      "                                                                                                  \n",
      " block1_pool (MaxPooling2D)  (None, 112, 112, 64)         0         ['block1_conv2[0][0]']        \n",
      "                                                                                                  \n",
      " block2_conv1 (Conv2D)       (None, 112, 112, 128)        73856     ['block1_pool[0][0]']         \n",
      "                                                                                                  \n",
      " block2_conv2 (Conv2D)       (None, 112, 112, 128)        147584    ['block2_conv1[0][0]']        \n",
      "                                                                                                  \n",
      " block2_pool (MaxPooling2D)  (None, 56, 56, 128)          0         ['block2_conv2[0][0]']        \n",
      "                                                                                                  \n",
      " block3_conv1 (Conv2D)       (None, 56, 56, 256)          295168    ['block2_pool[0][0]']         \n",
      "                                                                                                  \n",
      " block3_conv2 (Conv2D)       (None, 56, 56, 256)          590080    ['block3_conv1[0][0]']        \n",
      "                                                                                                  \n",
      " block3_conv3 (Conv2D)       (None, 56, 56, 256)          590080    ['block3_conv2[0][0]']        \n",
      "                                                                                                  \n",
      " block3_pool (MaxPooling2D)  (None, 28, 28, 256)          0         ['block3_conv3[0][0]']        \n",
      "                                                                                                  \n",
      " block4_conv1 (Conv2D)       (None, 28, 28, 512)          1180160   ['block3_pool[0][0]']         \n",
      "                                                                                                  \n",
      " block4_conv2 (Conv2D)       (None, 28, 28, 512)          2359808   ['block4_conv1[0][0]']        \n",
      "                                                                                                  \n",
      " block4_conv3 (Conv2D)       (None, 28, 28, 512)          2359808   ['block4_conv2[0][0]']        \n",
      "                                                                                                  \n",
      " block4_pool (MaxPooling2D)  (None, 14, 14, 512)          0         ['block4_conv3[0][0]']        \n",
      "                                                                                                  \n",
      " block5_conv1 (Conv2D)       (None, 14, 14, 512)          2359808   ['block4_pool[0][0]']         \n",
      "                                                                                                  \n",
      " block5_conv2 (Conv2D)       (None, 14, 14, 512)          2359808   ['block5_conv1[0][0]']        \n",
      "                                                                                                  \n",
      " block5_conv3 (Conv2D)       (None, 14, 14, 512)          2359808   ['block5_conv2[0][0]']        \n",
      "                                                                                                  \n",
      " conv2d_transpose_5 (Conv2D  (None, 28, 28, 512)          2359808   ['block5_conv3[0][0]']        \n",
      " Transpose)                                                                                       \n",
      "                                                                                                  \n",
      " concatenate_4 (Concatenate  (None, 28, 28, 1024)         0         ['conv2d_transpose_5[0][0]',  \n",
      " )                                                                   'block4_conv3[0][0]']        \n",
      "                                                                                                  \n",
      " conv2d_transpose_6 (Conv2D  (None, 56, 56, 256)          2359552   ['concatenate_4[0][0]']       \n",
      " Transpose)                                                                                       \n",
      "                                                                                                  \n",
      " concatenate_5 (Concatenate  (None, 56, 56, 512)          0         ['conv2d_transpose_6[0][0]',  \n",
      " )                                                                   'block3_conv3[0][0]']        \n",
      "                                                                                                  \n",
      " conv2d_transpose_7 (Conv2D  (None, 112, 112, 128)        589952    ['concatenate_5[0][0]']       \n",
      " Transpose)                                                                                       \n",
      "                                                                                                  \n",
      " concatenate_6 (Concatenate  (None, 112, 112, 256)        0         ['conv2d_transpose_7[0][0]',  \n",
      " )                                                                   'block2_conv2[0][0]']        \n",
      "                                                                                                  \n",
      " conv2d_transpose_8 (Conv2D  (None, 224, 224, 64)         147520    ['concatenate_6[0][0]']       \n",
      " Transpose)                                                                                       \n",
      "                                                                                                  \n",
      " concatenate_7 (Concatenate  (None, 224, 224, 128)        0         ['conv2d_transpose_8[0][0]',  \n",
      " )                                                                   'block1_conv2[0][0]']        \n",
      "                                                                                                  \n",
      " conv2d_transpose_9 (Conv2D  (None, 448, 448, 21)         24213     ['concatenate_7[0][0]']       \n",
      " Transpose)                                                                                       \n",
      "                                                                                                  \n",
      " conv2d_1 (Conv2D)           (None, 448, 448, 21)         462       ['conv2d_transpose_9[0][0]']  \n",
      "                                                                                                  \n",
      "==================================================================================================\n",
      "Total params: 20196195 (77.04 MB)\n",
      "Trainable params: 20196195 (77.04 MB)\n",
      "Non-trainable params: 0 (0.00 Byte)\n",
      "__________________________________________________________________________________________________\n"
     ]
    }
   ],
   "source": [
    "fcn_model.summary()"
   ]
  },
  {
   "cell_type": "code",
   "execution_count": 7,
   "metadata": {
    "colab": {
     "base_uri": "https://localhost:8080/"
    },
    "id": "79IFbbhecBHu",
    "outputId": "124182aa-8a86-4301-8803-a761f1e8516d"
   },
   "outputs": [
    {
     "name": "stdout",
     "output_type": "stream",
     "text": [
      "Requirement already satisfied: visualkeras in /usr/local/lib/python3.10/dist-packages (0.0.2)\n",
      "Requirement already satisfied: pillow>=6.2.0 in /usr/local/lib/python3.10/dist-packages (from visualkeras) (9.4.0)\n",
      "Requirement already satisfied: numpy>=1.18.1 in /usr/local/lib/python3.10/dist-packages (from visualkeras) (1.25.2)\n",
      "Requirement already satisfied: aggdraw>=1.3.11 in /usr/local/lib/python3.10/dist-packages (from visualkeras) (1.3.18.post0)\n"
     ]
    }
   ],
   "source": [
    "#pip install visualkeras tensorflow\n",
    "!pip install visualkeras\n",
    "import visualkeras"
   ]
  },
  {
   "cell_type": "code",
   "execution_count": 15,
   "metadata": {
    "colab": {
     "base_uri": "https://localhost:8080/",
     "height": 611
    },
    "id": "qnsBMBDYdAkq",
    "outputId": "43e61f49-3998-40a7-d9bf-2c0de8d5f6ea"
   },
   "outputs": [
    {
     "data": {
      "image/png": "[encoded data removed]",
      "text/plain": [
       "<PIL.Image.Image image mode=RGBA size=1359x634>"
      ]
     },
     "execution_count": 15,
     "metadata": {},
     "output_type": "execute_result"
    }
   ],
   "source": [
    "visualkeras.layered_view(fcn_model, scale_xy=1, legend=True)"
   ]
  },
  {
   "cell_type": "markdown",
   "metadata": {},
   "source": [
    "# Model Training"
   ]
  },
  {
   "cell_type": "code",
   "execution_count": null,
   "metadata": {
    "id": "RWmoLMDiabw3"
   },
   "outputs": [],
   "source": [
    "fcn_model.compile(optimizer='adam',\n",
    "                  loss='sparse_categorical_crossentropy',\n",
    "                  metrics=['accuracy'])\n",
    "\n",
    "# Train the model\n",
    "history = fcn_model.fit(train_dataset,\n",
    "                        validation_data=val_dataset,\n",
    "                        epochs=25)\n"
   ]
  },
  {
   "cell_type": "code",
   "execution_count": null,
   "metadata": {
    "id": "NyUrV0pBadTh"
   },
   "outputs": [],
   "source": [
    "# Evaluate the model\n",
    "val_loss, val_accuracy = fcn_model.evaluate(val_dataset)\n",
    "print(f'Validation Loss: {val_loss}')\n",
    "print(f'Validation Accuracy: {val_accuracy}')\n"
   ]
  },
  {
   "cell_type": "markdown",
   "metadata": {},
   "source": [
    "# Model Evaluation"
   ]
  },
  {
   "cell_type": "code",
   "execution_count": null,
   "metadata": {
    "id": "ciiyXnN7aewR"
   },
   "outputs": [],
   "source": [
    "import numpy as np\n",
    "\n",
    "def calculate_iou(y_true, y_pred, num_classes=21):\n",
    "    iou_list = []\n",
    "    y_true = y_true.flatten()\n",
    "    y_pred = y_pred.flatten()\n",
    "\n",
    "    for cls in range(num_classes):\n",
    "        intersection = np.sum((y_true == cls) & (y_pred == cls))\n",
    "        union = np.sum((y_true == cls) | (y_pred == cls))\n",
    "        if union == 0:\n",
    "            iou = float('nan')  # If there is no ground truth, do not include in evaluation\n",
    "        else:\n",
    "            iou = intersection / union\n",
    "        iou_list.append(iou)\n",
    "    return np.nanmean(iou_list)\n",
    "\n",
    "# Make predictions and calculate IoU\n",
    "iou_scores = []\n",
    "for images, labels in val_dataset:\n",
    "    preds = fcn_model.predict(images)\n",
    "    preds = np.argmax(preds, axis=-1)\n",
    "    for i in range(len(labels)):\n",
    "        iou = calculate_iou(labels[i].numpy(), preds[i], num_classes=21)\n",
    "        iou_scores.append(iou)\n",
    "\n",
    "mean_iou = np.mean(iou_scores)\n",
    "print(f'Mean IoU: {mean_iou}')"
   ]
  }
 ],
 "metadata": {
  "accelerator": "GPU",
  "colab": {
   "gpuType": "T4",
   "provenance": []
  },
  "kernelspec": {
   "display_name": "Python 3",
   "language": "python",
   "name": "python3"
  },
  "language_info": {
   "codemirror_mode": {
    "name": "ipython",
    "version": 3
   },
   "file_extension": ".py",
   "mimetype": "text/x-python",
   "name": "python",
   "nbconvert_exporter": "python",
   "pygments_lexer": "ipython3",
   "version": "3.7.0"
  }
 },
 "nbformat": 4,
 "nbformat_minor": 1
}
