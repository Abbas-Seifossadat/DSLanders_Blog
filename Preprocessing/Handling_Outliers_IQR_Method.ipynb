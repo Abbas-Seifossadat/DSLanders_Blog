{
  "nbformat": 4,
  "nbformat_minor": 0,
  "metadata": {
    "colab": {
      "provenance": []
    },
    "kernelspec": {
      "name": "python3",
      "display_name": "Python 3"
    },
    "language_info": {
      "name": "python"
    }
  },
  "cells": [
    {
      "cell_type": "code",
      "source": [
        "import numpy as np\n",
        "\n",
        "def handle_outliers(X_train, X_test, test):\n",
        "    Q1 = np.percentile(X_train, 25, axis=0)\n",
        "    Q3 = np.percentile(X_train, 75, axis=0)\n",
        "    IQR = Q3 - Q1\n",
        "    lower_bound = Q1 - 1.5 * IQR\n",
        "    upper_bound = Q3 + 1.5 * IQR\n",
        "\n",
        "    # Handling outliers in X_train\n",
        "    X_train = np.where(X_train < lower_bound, lower_bound, X_train)\n",
        "    X_train = np.where(X_train > upper_bound, upper_bound, X_train)\n",
        "\n",
        "    # Handling outliers in X_test based on X_train IQR\n",
        "    X_test = np.where(X_test < lower_bound, lower_bound, X_test)\n",
        "    X_test = np.where(X_test > upper_bound, upper_bound, X_test)\n",
        "\n",
        "    # Handling outliers in test dataset based on X_train IQR\n",
        "    test = np.where(test < lower_bound, lower_bound, test)\n",
        "    test = np.where(test > upper_bound, upper_bound, test)\n",
        "\n",
        "    return X_train, X_test, test\n",
        "\n",
        "# Call the function to handle outliers\n",
        "X_train, X_test, test = handle_outliers(X_train, X_test, test)"
      ],
      "metadata": {
        "id": "Y-xpxbEuRdx2"
      },
      "execution_count": null,
      "outputs": []
    }
  ]
}