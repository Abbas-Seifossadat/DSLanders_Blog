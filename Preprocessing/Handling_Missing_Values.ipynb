{
  "nbformat": 4,
  "nbformat_minor": 0,
  "metadata": {
    "colab": {
      "provenance": []
    },
    "kernelspec": {
      "name": "python3",
      "display_name": "Python 3"
    },
    "language_info": {
      "name": "python"
    }
  },
  "cells": [
    {
      "cell_type": "code",
      "execution_count": 4,
      "metadata": {
        "colab": {
          "base_uri": "https://localhost:8080/"
        },
        "id": "aUu6gdzjRB1i",
        "outputId": "2be2ab4e-62a0-46d9-8564-d4783ddd1eab"
      },
      "outputs": [
        {
          "output_type": "stream",
          "name": "stdout",
          "text": [
            "DataFrame befor handling missing values:\n",
            "     A    B     C\n",
            "0  1.0  5.0   9.0\n",
            "1  2.0  NaN  10.0\n",
            "2  NaN  7.0  11.0\n",
            "3  4.0  8.0   NaN\n",
            "DataFrame after dropping rows with missing values:\n",
            "     A    B    C\n",
            "0  1.0  5.0  9.0\n",
            "\n",
            "DataFrame after filling missing values with mean:\n",
            "          A         B     C\n",
            "0  1.000000  5.000000   9.0\n",
            "1  2.000000  6.666667  10.0\n",
            "2  2.333333  7.000000  11.0\n",
            "3  4.000000  8.000000  10.0\n",
            "\n",
            "DataFrame after imputing missing values with KNN imputer:\n",
            "     A    B     C\n",
            "0  1.0  5.0   9.0\n",
            "1  2.0  6.0  10.0\n",
            "2  3.0  7.0  11.0\n",
            "3  4.0  8.0  10.5\n"
          ]
        }
      ],
      "source": [
        "import pandas as pd\n",
        "\n",
        "# Create a sample DataFrame with missing values\n",
        "data = {'A': [1, 2, None, 4],\n",
        "        'B': [5, None, 7, 8],\n",
        "        'C': [9, 10, 11, None]}\n",
        "df = pd.DataFrame(data)\n",
        "\n",
        "# Method 1: Drop rows with missing values\n",
        "df_dropna = df.dropna()\n",
        "\n",
        "# Method 2: Fill missing values with mean\n",
        "df_fillna_mean = df.fillna(df.mean())\n",
        "\n",
        "# Method 3: Impute missing values with KNN imputer\n",
        "from sklearn.impute import KNNImputer\n",
        "imputer = KNNImputer(n_neighbors=2)\n",
        "df_imputed = pd.DataFrame(imputer.fit_transform(df), columns=df.columns)\n",
        "\n",
        "print(\"DataFrame befor handling missing values:\")\n",
        "print(df)\n",
        "print(\"DataFrame after dropping rows with missing values:\")\n",
        "print(df_dropna)\n",
        "print(\"\\nDataFrame after filling missing values with mean:\")\n",
        "print(df_fillna_mean)\n",
        "print(\"\\nDataFrame after imputing missing values with KNN imputer:\")\n",
        "print(df_imputed)"
      ]
    },
    {
      "cell_type": "code",
      "source": [],
      "metadata": {
        "id": "Y-xpxbEuRdx2"
      },
      "execution_count": null,
      "outputs": []
    }
  ]
}